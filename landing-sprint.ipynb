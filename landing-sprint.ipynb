{
 "cells": [
  {
   "cell_type": "markdown",
   "metadata": {},
   "source": [
    "## Download and Explain `Boilerplate`"
   ]
  },
  {
   "cell_type": "markdown",
   "metadata": {},
   "source": [
    "#### *Until `1. Let's add HTML content`*\n",
    "**Explain about Bootstrap, ViewPort scale**"
   ]
  },
  {
   "cell_type": "code",
   "execution_count": null,
   "metadata": {},
   "outputs": [],
   "source": [
    "<meta charset=\"utf-8\">\n",
    "    \n",
    "<!-- Bootstrap v4 -->\n",
    "<link rel=\"stylesheet\" href=\"https://maxcdn.bootstrapcdn.com/bootstrap/4.0.0/css/bootstrap.min.css\" integrity=\"sha384-Gn5384xqQ1aoWXA+058RXPxPg6fy4IWvTNh0E263XmFcJlSAwiGgFAW/dAiS6JXm\" crossorigin=\"anonymous\">\n",
    "\n",
    "<!-- Font Awesome -->\n",
    "<link rel=\"stylesheet\" href=\"https://use.fontawesome.com/releases/v5.4.1/css/all.css\" integrity=\"sha384-5sAR7xN1Nv6T6+dT2mhtzEpVJvfS3NScPQTrOxhwjIuvcA67KV2R5Jz6kr4abQsz\" crossorigin=\"anonymous\">\n",
    "\n",
    "<!-- CSS Import -->\n",
    "<link rel=\"stylesheet\" href=\"style.css\">\n",
    "\n",
    "<!-- MS Edge support -->\n",
    "<meta http-equiv=\"X-UA-Compatible\" content=\"IE=edge\">\n",
    "\n",
    "<!-- CSS Variables and Value -->\n",
    "<meta name=\"viewport\" content=\"width=device-width, initial-scale=1\">\n",
    "\n",
    "<!-- Tab Title -->\n",
    "<title>Landing 101</title>"
   ]
  },
  {
   "cell_type": "markdown",
   "metadata": {},
   "source": [
    "#### *Until `2. CSS for Fonts and Colors` slide.*\n",
    "## Main Style"
   ]
  },
  {
   "cell_type": "markdown",
   "metadata": {},
   "source": [
    "`CSS Code`\n",
    "> *Add following line after ? on css: `family=Rubik:400,500,700`*"
   ]
  },
  {
   "cell_type": "code",
   "execution_count": null,
   "metadata": {},
   "outputs": [],
   "source": [
    "/* Importing Google fonts */\n",
    "@import url(\"https://fonts.googleapis.com/css?family=Rubik:400,500,700\");\n",
    "\n",
    "/* Importing components */\n",
    "@import url(\"components/dashboard.css\");\n",
    "@import url(\"components/banner.css\");\n",
    "@import url(\"components/navbar.css\");\n",
    "@import url(\"components/card.css\");\n",
    "@import url(\"components/footer.css\");\n",
    "\n",
    "body {\n",
    "  margin: 0;\n",
    "  font-family: 'Rubik', sans-serif;\n",
    "  font-size: 18px;\n",
    "  font-weight: 300;\n",
    "}\n",
    "p {\n",
    "  font-weight: lighter;\n",
    "}\n",
    "h1, h2, h3 {\n",
    "  font-family: 'Rubik', sans-serif;\n",
    "  font-weight: bold;\n",
    "}\n",
    "h1 {\n",
    "  font-size: 30px;\n",
    "  color: white;\n",
    "}\n",
    "h2 {\n",
    "  font-size: 25px;\n",
    "  text-align: center;\n",
    "}\n",
    "h3 {\n",
    "  font-size: 23px;\n",
    "}"
   ]
  },
  {
   "cell_type": "markdown",
   "metadata": {},
   "source": [
    "#### *Until `3. Wrap with Div` slide.*\n",
    "## Navbar Elements"
   ]
  },
  {
   "cell_type": "code",
   "execution_count": null,
   "metadata": {},
   "outputs": [],
   "source": [
    "<div class=\"navbar\">\n",
    "   <i class=\"fas fa-globe-africa\" id=\"logo-navbar\"></i> <!-- # Use png or jpeg <img src=\"./image.png\" alt=\"\">-->\n",
    "   <a href=\"#\" id=\"login\">Login</a>\n",
    "</div>"
   ]
  },
  {
   "cell_type": "markdown",
   "metadata": {},
   "source": [
    "#### *Until `4. Name Your Tags` slide.*\n",
    "## Navbar Style for Logo and Contact link"
   ]
  },
  {
   "cell_type": "markdown",
   "metadata": {},
   "source": [
    "> *Add the following* `CSS Code`"
   ]
  },
  {
   "cell_type": "code",
   "execution_count": 2,
   "metadata": {},
   "outputs": [],
   "source": [
    ".navbar {\n",
    "  height: 70px;\n",
    "  background: white;\n",
    "  box-shadow: 0px -2px 10px rgba(0,0,0,0.3);\n",
    "  display: flex;\n",
    "  justify-content: space-between;\n",
    "  align-items: center;\n",
    "}\n",
    "\n",
    "#contact {\n",
    "  margin-right: 5%;\n",
    "  text-decoration: none;\n",
    "}\n",
    "\n",
    "#logo-navbar{\n",
    "  margin-left: 5%;\n",
    "  font-size: 30px;\n",
    "}"
   ]
  },
  {
   "cell_type": "markdown",
   "metadata": {},
   "source": [
    "> *Init Banner* `HTML Code` *and* `CSS Code`"
   ]
  },
  {
   "cell_type": "code",
   "execution_count": 2,
   "metadata": {},
   "outputs": [],
   "source": [
    "<div class=\"banner\">\n",
    "    <h1>My Landing Page</h1>\n",
    "    <!-- Bootstrap button -->\n",
    "</div>"
   ]
  },
  {
   "cell_type": "code",
   "execution_count": 2,
   "metadata": {},
   "outputs": [],
   "source": [
    ".banner {\n",
    "  text-align: center;\n",
    "  background-image: url(\"https://unsplash.it/1300/600?random\");\n",
    "  background-size: cover;\n",
    "  padding: 150px;\n",
    "  height: 60vh;\n",
    "  display: flex;\n",
    "  align-items: flex-start;\n",
    "  justify-content: space-around;\n",
    "}\n",
    "\n",
    ".signup {\n",
    "  position: absolute;\n",
    "  margin-top: 14%;\n",
    "}"
   ]
  },
  {
   "cell_type": "markdown",
   "metadata": {},
   "source": [
    "#### *Until `5. Until Bootstrap Setup` slide.*\n",
    "## Bootstrap on banner div"
   ]
  },
  {
   "cell_type": "code",
   "execution_count": null,
   "metadata": {},
   "outputs": [],
   "source": [
    "<div class=\"navbar\">\n",
    "   <i class=\"fas fa-globe-africa\" id=\"logo-navbar\"></i> <!-- # Use png or jpeg <img src=\"./image.png\" alt=\"\">-->\n",
    "   <a href=\"#\" id=\"login\">Login</a>\n",
    "</div>"
   ]
  },
  {
   "cell_type": "markdown",
   "metadata": {},
   "source": [
    "`CSS Code`"
   ]
  },
  {
   "cell_type": "code",
   "execution_count": 2,
   "metadata": {},
   "outputs": [],
   "source": [
    ".navbar {\n",
    "  height: 70px;\n",
    "  background: white;\n",
    "  box-shadow: 0px -2px 10px rgba(0,0,0,0.3);\n",
    "  display: flex;\n",
    "  justify-content: space-between;\n",
    "  align-items: center;\n",
    "}\n",
    "\n",
    "#login {\n",
    "  margin-right: 5%;\n",
    "  text-decoration: none;\n",
    "}\n",
    "\n",
    "#logo-navbar{\n",
    "  margin-left: 5%;\n",
    "  font-size: 30px;\n",
    "}"
   ]
  },
  {
   "cell_type": "markdown",
   "metadata": {},
   "source": [
    "## Banner Design"
   ]
  },
  {
   "cell_type": "code",
   "execution_count": null,
   "metadata": {},
   "outputs": [],
   "source": [
    "<div class=\"banner\">\n",
    "   <h1>My Landing Page</h1>\n",
    "   <a href=\"#\" class=\"btn btn-primary btn-lg signup\">Inscreva-se</a>\n",
    "</div>"
   ]
  },
  {
   "cell_type": "markdown",
   "metadata": {},
   "source": [
    "`CSS Code`"
   ]
  },
  {
   "cell_type": "code",
   "execution_count": 2,
   "metadata": {},
   "outputs": [],
   "source": [
    ".banner {\n",
    "  text-align: center;\n",
    "  background-image: url(\"https://unsplash.it/1300/600?random\");\n",
    "  background-size: cover;\n",
    "  padding: 150px;\n",
    "  height: 60vh;\n",
    "  display: flex;\n",
    "  align-items: flex-start;\n",
    "  justify-content: space-around;\n",
    "}\n",
    "\n",
    ".signup {\n",
    "  position: absolute;\n",
    "  margin-top: 14%;\n",
    "}"
   ]
  },
  {
   "cell_type": "markdown",
   "metadata": {},
   "source": [
    "## Dashboard Design"
   ]
  },
  {
   "cell_type": "markdown",
   "metadata": {},
   "source": [
    "**Explain about the div that will roll our panel \"card\"**"
   ]
  },
  {
   "cell_type": "code",
   "execution_count": null,
   "metadata": {},
   "outputs": [],
   "source": [
    "<div class=\"dashboard-item\">\n",
    "   <div>\n",
    "     <img src=\"images/heart.png\" alt=\"Lovely feature\" width=\"138\">\n",
    "     <h2>Fast</h2>\n",
    "     <p>The quick, <strong>brown fox</strong> jumps over</p>\n",
    "   </div>\n",
    "</div>"
   ]
  },
  {
   "cell_type": "markdown",
   "metadata": {},
   "source": [
    "Repeat inherit div 3 times && **Emmet Shortcut** `(div>img+h2+p)*3`"
   ]
  },
  {
   "cell_type": "markdown",
   "metadata": {},
   "source": [
    "`CSS Code`"
   ]
  },
  {
   "cell_type": "code",
   "execution_count": 2,
   "metadata": {},
   "outputs": [],
   "source": [
    ".dashboard-item {\n",
    "  background: white;\n",
    "  box-shadow: 0 0 10px rgba(0,0,0,0.2);\n",
    "  padding: 10px;\n",
    "  margin: 5px;\n",
    "  display: flex;\n",
    "  text-align: center;\n",
    "  align-items: center;\n",
    "  justify-content: space-around;\n",
    "  height: 58vh;\n",
    "  margin-bottom: 10%;\n",
    "}"
   ]
  },
  {
   "cell_type": "markdown",
   "metadata": {},
   "source": [
    "## Card Design"
   ]
  },
  {
   "cell_type": "code",
   "execution_count": null,
   "metadata": {},
   "outputs": [],
   "source": [
    "<h2>Card design</h2>\n",
    "      <div class=\"row\">\n",
    "        <div class=\"col-xs-12 col-sm-4\">\n",
    "          <div class=\"card\">\n",
    "            <img src=\"http://placehold.it/50x50\" class=\"avatar card-user\">\n",
    "            <span class=\"card-category\">POPULAR</span>\n",
    "            <div class=\"card-description\">\n",
    "              <h3>Stripe</h3>\n",
    "              <p>A cool payment API</p>\n",
    "            </div>\n",
    "          </div>\n",
    "        </div>"
   ]
  },
  {
   "cell_type": "code",
   "execution_count": 2,
   "metadata": {},
   "outputs": [],
   "source": [
    ".card {\n",
    "  position: relative;\n",
    "  height: 250px;\n",
    "  background: linear-gradient(-225deg, rgba(30,30,30,0.6) 30%, rgba(46,46,46,0.5) 80%), \n",
    "  url(\"http://unsplash.it/400/300/?=landscape\");\n",
    "  background-size: cover;\n",
    "  color: white;\n",
    "  border-radius: 5px;\n",
    "}\n",
    "\n",
    ".card-user {\n",
    "  position: absolute;\n",
    "  top: 10px;\n",
    "  right: 20px;\n",
    "}\n",
    ".card-category {\n",
    "  position: absolute;\n",
    "  top: 20px;\n",
    "  left: 13px;\n",
    "}\n",
    ".card-description {\n",
    "  position: absolute;\n",
    "  bottom: 8px;\n",
    "  left: 20px;\n",
    "}"
   ]
  },
  {
   "cell_type": "markdown",
   "metadata": {},
   "source": [
    "## Footer"
   ]
  },
  {
   "cell_type": "code",
   "execution_count": null,
   "metadata": {},
   "outputs": [],
   "source": [
    "<h2>Banner design</h2>\n",
    "      <div class=\"banner\">\n",
    "        <div class=\"banner-content\">\n",
    "          <h1>Microplastics</h1>\n",
    "          <p>Join us for minimize PET waste </p>\n",
    "          <a href=\"#\" class=\"btn-treehouse\">Start now</a>\n",
    "        </div>\n",
    "      </div>"
   ]
  },
  {
   "cell_type": "code",
   "execution_count": 2,
   "metadata": {},
   "outputs": [],
   "source": [
    ".banner {\n",
    "  height: 580px;\n",
    "  background: linear-gradient(-225deg, rgba(30,30,30,0.6) 30%, rgba(46,46,46,0.5) 80%),\n",
    "  url(\"https://picsum.photos/id/1069/3500/2333/?blur=1\");\n",
    "  background-size: cover;\n",
    "  color: white;\n",
    "  text-align: center;\n",
    "  display: flex;\n",
    "  align-items: center;\n",
    "  justify-content: space-around;\n",
    "}\n",
    "\n",
    ".banner h1 {\n",
    "  font-size: 32px;\n",
    "  font-weight: bolder;\n",
    "}\n",
    "\n",
    ".banner p {\n",
    "  font-size: 32px;\n",
    "  font-weight: lighter;\n",
    "}\n"
   ]
  },
  {
   "cell_type": "markdown",
   "metadata": {},
   "source": [
    "## List Design"
   ]
  },
  {
   "cell_type": "code",
   "execution_count": null,
   "metadata": {},
   "outputs": [],
   "source": [
    "<h2>List design</h2>\n",
    "      <ul class=\"list-unstyled\">\n",
    "        <li class=\"product\">\n",
    "\n",
    "          <div class=\"product-upvote text-center\">\n",
    "            <span>•</span>\n",
    "          </div>\n",
    "\n",
    "          <img src=\"http://unsplash.it/200/120/?random\" class=\"product-image img-rounded\">\n",
    "\n",
    "          <div class=\"product-description\">\n",
    "            <h3>Intercom</h3>\n",
    "            <p>The best CRM tool.</p>\n",
    "          </div>\n",
    "\n",
    "          <ul class=\"list-inline product-controls\">\n",
    "            <li><a href=\"\"><i class=\"fa fa-heart\"></i></a></li>\n",
    "            <li><a href=\"\"><i class=\"fa fa-share\"></i></a></li>\n",
    "            <li><a href=\"\"><i class=\"fa fa-star\"></i></a></li>\n",
    "          </ul>\n",
    "        </li>\n",
    "      </ul>"
   ]
  },
  {
   "cell_type": "code",
   "execution_count": 2,
   "metadata": {},
   "outputs": [],
   "source": [
    ".product {\n",
    "  display: flex;\n",
    "  justify-content: space-between;\n",
    "  align-items: center;\n",
    "  padding: 10px;\n",
    "  transition: all 0.3s ease;\n",
    "  border-radius: 3px;\n",
    "}\n",
    "\n",
    ".product:hover {\n",
    "  background: rgb(240, 240, 240);\n",
    "}\n",
    "\n",
    ".product:hover .product-upvote {\n",
    "  font-size: 25px;\n",
    "}\n",
    "\n",
    ".product-upvote {\n",
    "  font-size: 20px;\n",
    "  padding: 20px;\n",
    "  transition: all 0.3s ease;\n",
    "}\n",
    "\n",
    ".product-description {\n",
    "  flex: 1 0 auto;\n",
    "  padding: 20px;\n",
    "}\n",
    ".product-controls a {\n",
    "  font-size: 15px;\n",
    "  color: #CCCCCC;\n",
    "}\n"
   ]
  }
 ],
 "metadata": {
  "kernelspec": {
   "display_name": "Ruby 2.6.2",
   "language": "ruby",
   "name": "ruby"
  },
  "language_info": {
   "file_extension": ".rb",
   "mimetype": "application/x-ruby",
   "name": "ruby",
   "version": "2.6.2"
  },
  "toc": {
   "nav_menu": {},
   "number_sections": true,
   "sideBar": true,
   "skip_h1_title": false,
   "toc_cell": false,
   "toc_position": {},
   "toc_section_display": "block",
   "toc_window_display": false
  }
 },
 "nbformat": 4,
 "nbformat_minor": 2
}
