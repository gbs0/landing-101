{
 "cells": [
  {
   "cell_type": "markdown",
   "metadata": {},
   "source": [
    "## Download and Explain Boilerplate"
   ]
  },
  {
   "cell_type": "markdown",
   "metadata": {},
   "source": [
    "Explain about Bootstrap, view port scale for variables and values, etc..."
   ]
  },
  {
   "cell_type": "code",
   "execution_count": null,
   "metadata": {},
   "outputs": [],
   "source": [
    "<meta charset=\"utf-8\">\n",
    "    \n",
    "<!-- Bootstrap v4 -->\n",
    "<link rel=\"stylesheet\" href=\"https://maxcdn.bootstrapcdn.com/bootstrap/4.0.0/css/bootstrap.min.css\" integrity=\"sha384-Gn5384xqQ1aoWXA+058RXPxPg6fy4IWvTNh0E263XmFcJlSAwiGgFAW/dAiS6JXm\" crossorigin=\"anonymous\">\n",
    "\n",
    "<!-- Font Awesome -->\n",
    "<link rel=\"stylesheet\" href=\"https://use.fontawesome.com/releases/v5.4.1/css/all.css\" integrity=\"sha384-5sAR7xN1Nv6T6+dT2mhtzEpVJvfS3NScPQTrOxhwjIuvcA67KV2R5Jz6kr4abQsz\" crossorigin=\"anonymous\">\n",
    "\n",
    "<!-- CSS Import -->\n",
    "<link rel=\"stylesheet\" href=\"style.css\">\n",
    "\n",
    "<!-- MS Edge support -->\n",
    "<meta http-equiv=\"X-UA-Compatible\" content=\"IE=edge\">\n",
    "\n",
    "<!-- CSS Variables and Value -->\n",
    "<meta name=\"viewport\" content=\"width=device-width, initial-scale=1\">\n",
    "\n",
    "<!-- Tab Title -->\n",
    "<title>Landing 101</title>"
   ]
  },
  {
   "cell_type": "markdown",
   "metadata": {},
   "source": [
    "## Navbar Design"
   ]
  },
  {
   "cell_type": "code",
   "execution_count": null,
   "metadata": {},
   "outputs": [],
   "source": [
    "<div class=\"navbar\">\n",
    "   <i class=\"fas fa-globe-africa\" id=\"logo-navbar\"></i> <!-- # Use png or jpeg <img src=\"./image.png\" alt=\"\">-->\n",
    "   <a href=\"/\" id=\"login\">Login</a>\n",
    "</div>"
   ]
  },
  {
   "cell_type": "code",
   "execution_count": 2,
   "metadata": {},
   "outputs": [],
   "source": [
    ".btn-medium {\n",
    "  color: #999999;\n",
    "  border: 1px solid #999999;\n",
    "  padding: 10px 15px;\n",
    "  border-radius: 50px;\n",
    "  font-weight: lighter;\n",
    "  opacity: 0.6;\n",
    "}\n",
    "\n",
    ".btn-medium:hover {\n",
    "  opacity: 1;\n",
    "  text-decoration: none;\n",
    "  color: #999999;\n",
    "}\n",
    "\n",
    ".btn-treehouse {\n",
    "  color: white;\n",
    "  padding: 10px 15px;\n",
    "  border-radius: 4px;\n",
    "  font-weight: bold;\n",
    "  background: #6AD58B;\n",
    "}\n",
    "\n",
    ".btn-treehouse:hover {\n",
    "  opacity: 1;\n",
    "  background: #4f9e66;\n",
    "  text-decoration: none;\n",
    "  color: white;\n",
    "}"
   ]
  },
  {
   "cell_type": "markdown",
   "metadata": {},
   "source": [
    "## Banner Design"
   ]
  },
  {
   "cell_type": "code",
   "execution_count": null,
   "metadata": {},
   "outputs": [],
   "source": [
    "<div id=\"banner\">\n",
    "  <h1>My Landing Page</h1>  \n",
    "  <a href=\"#\" class=\"btn btn-primary btn-lg\" id=\"hero-button\">Inscreva-se</a>\n",
    "</div>"
   ]
  },
  {
   "cell_type": "code",
   "execution_count": 2,
   "metadata": {},
   "outputs": [],
   "source": [
    ".banner {\n",
    "  text-align: center;\n",
    "  background-image: url(\"https://unsplash.it/1300/600?random\");\n",
    "  background-size: cover;\n",
    "  padding: 150px;\n",
    "  height: 60vh;\n",
    "  display: flex;\n",
    "  align-items: flex-start;\n",
    "  justify-content: space-around;\n",
    "}\n",
    "\n",
    ".signup {\n",
    "\tposition: absolute;\n",
    "\tmargin-top: 14%;\n",
    "}"
   ]
  },
  {
   "cell_type": "markdown",
   "metadata": {},
   "source": [
    "## Dropdown Design"
   ]
  },
  {
   "cell_type": "code",
   "execution_count": null,
   "metadata": {},
   "outputs": [],
   "source": [
    "<h2>Dropdown design</h2>\n",
    "        <div class=\"dropdown\">\n",
    "          <img src=\"http://placehold.it/50x50\" class=\"avatar dropdown-toggle\" data-toggle=\"dropdown\">\n",
    "          <ul class=\"dropdown-menu\">\n",
    "            <li><a href=\"#\">Dashboard</a></li>\n",
    "            <li><a href=\"#\">Settings</a></li>\n",
    "            <li><a href=\"#\">Logout</a></li>\n",
    "          </ul>\n",
    "        </div>"
   ]
  },
  {
   "cell_type": "code",
   "execution_count": 2,
   "metadata": {},
   "outputs": [],
   "source": [
    ".dropdown-menu a {\n",
    "  font-weight: lighter !important;\n",
    "}\n"
   ]
  },
  {
   "cell_type": "markdown",
   "metadata": {},
   "source": [
    "## Card Design"
   ]
  },
  {
   "cell_type": "code",
   "execution_count": null,
   "metadata": {},
   "outputs": [],
   "source": [
    "<h2>Card design</h2>\n",
    "      <div class=\"row\">\n",
    "        <div class=\"col-xs-12 col-sm-4\">\n",
    "          <div class=\"card\">\n",
    "            <img src=\"http://placehold.it/50x50\" class=\"avatar card-user\">\n",
    "            <span class=\"card-category\">POPULAR</span>\n",
    "            <div class=\"card-description\">\n",
    "              <h3>Stripe</h3>\n",
    "              <p>A cool payment API</p>\n",
    "            </div>\n",
    "          </div>\n",
    "        </div>"
   ]
  },
  {
   "cell_type": "code",
   "execution_count": 2,
   "metadata": {},
   "outputs": [],
   "source": [
    ".card {\n",
    "  position: relative;\n",
    "  height: 250px;\n",
    "  background: linear-gradient(-225deg, rgba(30,30,30,0.6) 30%, rgba(46,46,46,0.5) 80%), \n",
    "  url(\"http://unsplash.it/400/300/?=landscape\");\n",
    "  background-size: cover;\n",
    "  color: white;\n",
    "  border-radius: 5px;\n",
    "}\n",
    "\n",
    ".card-user {\n",
    "  position: absolute;\n",
    "  top: 10px;\n",
    "  right: 20px;\n",
    "}\n",
    ".card-category {\n",
    "  position: absolute;\n",
    "  top: 20px;\n",
    "  left: 13px;\n",
    "}\n",
    ".card-description {\n",
    "  position: absolute;\n",
    "  bottom: 8px;\n",
    "  left: 20px;\n",
    "}"
   ]
  },
  {
   "cell_type": "markdown",
   "metadata": {},
   "source": [
    "## Banner Design"
   ]
  },
  {
   "cell_type": "code",
   "execution_count": null,
   "metadata": {},
   "outputs": [],
   "source": [
    "<h2>Banner design</h2>\n",
    "      <div class=\"banner\">\n",
    "        <div class=\"banner-content\">\n",
    "          <h1>Microplastics</h1>\n",
    "          <p>Join us for minimize PET waste </p>\n",
    "          <a href=\"#\" class=\"btn-treehouse\">Start now</a>\n",
    "        </div>\n",
    "      </div>"
   ]
  },
  {
   "cell_type": "code",
   "execution_count": 2,
   "metadata": {},
   "outputs": [],
   "source": [
    ".banner {\n",
    "  height: 580px;\n",
    "  background: linear-gradient(-225deg, rgba(30,30,30,0.6) 30%, rgba(46,46,46,0.5) 80%),\n",
    "  url(\"https://picsum.photos/id/1069/3500/2333/?blur=1\");\n",
    "  background-size: cover;\n",
    "  color: white;\n",
    "  text-align: center;\n",
    "  display: flex;\n",
    "  align-items: center;\n",
    "  justify-content: space-around;\n",
    "}\n",
    "\n",
    ".banner h1 {\n",
    "  font-size: 32px;\n",
    "  font-weight: bolder;\n",
    "}\n",
    "\n",
    ".banner p {\n",
    "  font-size: 32px;\n",
    "  font-weight: lighter;\n",
    "}\n"
   ]
  },
  {
   "cell_type": "markdown",
   "metadata": {},
   "source": [
    "## List Design"
   ]
  },
  {
   "cell_type": "code",
   "execution_count": null,
   "metadata": {},
   "outputs": [],
   "source": [
    "<h2>List design</h2>\n",
    "      <ul class=\"list-unstyled\">\n",
    "        <li class=\"product\">\n",
    "\n",
    "          <div class=\"product-upvote text-center\">\n",
    "            <span>•</span>\n",
    "          </div>\n",
    "\n",
    "          <img src=\"http://unsplash.it/200/120/?random\" class=\"product-image img-rounded\">\n",
    "\n",
    "          <div class=\"product-description\">\n",
    "            <h3>Intercom</h3>\n",
    "            <p>The best CRM tool.</p>\n",
    "          </div>\n",
    "\n",
    "          <ul class=\"list-inline product-controls\">\n",
    "            <li><a href=\"\"><i class=\"fa fa-heart\"></i></a></li>\n",
    "            <li><a href=\"\"><i class=\"fa fa-share\"></i></a></li>\n",
    "            <li><a href=\"\"><i class=\"fa fa-star\"></i></a></li>\n",
    "          </ul>\n",
    "        </li>\n",
    "      </ul>"
   ]
  },
  {
   "cell_type": "code",
   "execution_count": 2,
   "metadata": {},
   "outputs": [],
   "source": [
    ".product {\n",
    "  display: flex;\n",
    "  justify-content: space-between;\n",
    "  align-items: center;\n",
    "  padding: 10px;\n",
    "  transition: all 0.3s ease;\n",
    "  border-radius: 3px;\n",
    "}\n",
    "\n",
    ".product:hover {\n",
    "  background: rgb(240, 240, 240);\n",
    "}\n",
    "\n",
    ".product:hover .product-upvote {\n",
    "  font-size: 25px;\n",
    "}\n",
    "\n",
    ".product-upvote {\n",
    "  font-size: 20px;\n",
    "  padding: 20px;\n",
    "  transition: all 0.3s ease;\n",
    "}\n",
    "\n",
    ".product-description {\n",
    "  flex: 1 0 auto;\n",
    "  padding: 20px;\n",
    "}\n",
    ".product-controls a {\n",
    "  font-size: 15px;\n",
    "  color: #CCCCCC;\n",
    "}\n"
   ]
  }
 ],
 "metadata": {
  "kernelspec": {
   "display_name": "Ruby 2.6.2",
   "language": "ruby",
   "name": "ruby"
  },
  "language_info": {
   "file_extension": ".rb",
   "mimetype": "application/x-ruby",
   "name": "ruby",
   "version": "2.6.2"
  },
  "toc": {
   "nav_menu": {},
   "number_sections": true,
   "sideBar": true,
   "skip_h1_title": false,
   "toc_cell": false,
   "toc_position": {},
   "toc_section_display": "block",
   "toc_window_display": false
  }
 },
 "nbformat": 4,
 "nbformat_minor": 2
}
