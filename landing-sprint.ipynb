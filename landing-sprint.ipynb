{
 "cells": [
  {
   "cell_type": "markdown",
   "metadata": {},
   "source": [
    "## Download and Explain `Boilerplate`"
   ]
  },
  {
   "cell_type": "markdown",
   "metadata": {},
   "source": [
    "#### *Until `1. Let's add HTML content`*\n",
    "**Explain about Bootstrap, ViewPort scale**"
   ]
  },
  {
   "cell_type": "code",
   "execution_count": null,
   "metadata": {},
   "outputs": [],
   "source": [
    "<meta charset=\"utf-8\">\n",
    "    \n",
    "<!-- Bootstrap v4 -->\n",
    "<link rel=\"stylesheet\" href=\"https://maxcdn.bootstrapcdn.com/bootstrap/4.0.0/css/bootstrap.min.css\" integrity=\"sha384-Gn5384xqQ1aoWXA+058RXPxPg6fy4IWvTNh0E263XmFcJlSAwiGgFAW/dAiS6JXm\" crossorigin=\"anonymous\">\n",
    "\n",
    "<!-- Font Awesome -->\n",
    "<link rel=\"stylesheet\" href=\"https://use.fontawesome.com/releases/v5.4.1/css/all.css\" integrity=\"sha384-5sAR7xN1Nv6T6+dT2mhtzEpVJvfS3NScPQTrOxhwjIuvcA67KV2R5Jz6kr4abQsz\" crossorigin=\"anonymous\">\n",
    "\n",
    "<!-- CSS Import -->\n",
    "<link rel=\"stylesheet\" href=\"style.css\">\n",
    "\n",
    "<!-- MS Edge support -->\n",
    "<meta http-equiv=\"X-UA-Compatible\" content=\"IE=edge\">\n",
    "\n",
    "<!-- CSS Variables and Value -->\n",
    "<meta name=\"viewport\" content=\"width=device-width, initial-scale=1\">\n",
    "\n",
    "<!-- Tab Title -->\n",
    "<title>Landing 101</title>"
   ]
  },
  {
   "cell_type": "markdown",
   "metadata": {},
   "source": [
    "#### *Until `2. CSS for Fonts and Colors` slide.*\n",
    "## Main Style"
   ]
  },
  {
   "cell_type": "markdown",
   "metadata": {},
   "source": [
    "`CSS Code`\n",
    "> *Add following line after ? on css: `family=Rubik:400,500,700`*"
   ]
  },
  {
   "cell_type": "code",
   "execution_count": null,
   "metadata": {},
   "outputs": [],
   "source": [
    "/* Importing Google fonts */\n",
    "@import url(\"https://fonts.googleapis.com/css?family=Rubik:400,500,700\");\n",
    "\n",
    "/* Importing components */\n",
    "@import url(\"components/dashboard.css\");\n",
    "@import url(\"components/banner.css\");\n",
    "@import url(\"components/navbar.css\");\n",
    "@import url(\"components/card.css\");\n",
    "@import url(\"components/footer.css\");\n",
    "\n",
    "body {\n",
    "  margin: 0;\n",
    "  font-family: 'Rubik', sans-serif;\n",
    "  font-size: 18px;\n",
    "  font-weight: 300;\n",
    "}\n",
    "p {\n",
    "  font-weight: lighter;\n",
    "}\n",
    "h1, h2, h3 {\n",
    "  font-family: 'Rubik', sans-serif;\n",
    "  font-weight: bold;\n",
    "}\n",
    "h1 {\n",
    "  font-size: 30px;\n",
    "  color: white;\n",
    "}\n",
    "h2 {\n",
    "  font-size: 25px;\n",
    "  text-align: center;\n",
    "}\n",
    "h3 {\n",
    "  font-size: 23px;\n",
    "}"
   ]
  },
  {
   "cell_type": "markdown",
   "metadata": {},
   "source": [
    "#### *Until `3. Wrap with Div` slide.*\n",
    "## Navbar Elements"
   ]
  },
  {
   "cell_type": "code",
   "execution_count": null,
   "metadata": {},
   "outputs": [],
   "source": [
    "<div class=\"navbar\">\n",
    "   <i class=\"fas fa-globe-africa\" id=\"logo-navbar\"></i> <!-- # Use png or jpeg <img src=\"./image.png\" alt=\"\">-->\n",
    "   <a href=\"#\" id=\"login\">Login</a>\n",
    "</div>"
   ]
  },
  {
   "cell_type": "markdown",
   "metadata": {},
   "source": [
    "`CSS Code`"
   ]
  },
  {
   "cell_type": "code",
   "execution_count": 2,
   "metadata": {},
   "outputs": [],
   "source": [
    ".navbar {\n",
    "  height: 70px;\n",
    "  background: white;\n",
    "  box-shadow: 0px -2px 10px rgba(0,0,0,0.3);\n",
    "  display: flex;\n",
    "  justify-content: space-between;\n",
    "  align-items: center;\n",
    "}\n",
    "\n",
    "#login {\n",
    "  margin-right: 5%;\n",
    "  text-decoration: none;\n",
    "}\n",
    "\n",
    "#logo-navbar{\n",
    "  margin-left: 5%;\n",
    "  font-size: 30px;\n",
    "}"
   ]
  },
  {
   "cell_type": "markdown",
   "metadata": {},
   "source": [
    "#### *Until `2. Let’s add HTML content` slide.*\n",
    "## Navbar Design"
   ]
  },
  {
   "cell_type": "code",
   "execution_count": null,
   "metadata": {},
   "outputs": [],
   "source": [
    "<div class=\"navbar\">\n",
    "   <i class=\"fas fa-globe-africa\" id=\"logo-navbar\"></i> <!-- # Use png or jpeg <img src=\"./image.png\" alt=\"\">-->\n",
    "   <a href=\"#\" id=\"contact\">Login</a>\n",
    "</div>"
   ]
  },
  {
   "cell_type": "markdown",
   "metadata": {},
   "source": [
    "#### *Until `4. Name Your Tags` slide.*\n",
    "## Navbar Style for Logo and Contact link"
   ]
  },
  {
   "cell_type": "markdown",
   "metadata": {},
   "source": [
    "> *Add the following* `CSS Code`"
   ]
  },
  {
   "cell_type": "code",
   "execution_count": 2,
   "metadata": {},
   "outputs": [],
   "source": [
    ".navbar {\n",
    "  height: 70px;\n",
    "  background: white;\n",
    "  box-shadow: 0px -2px 10px rgba(0,0,0,0.3);\n",
    "  display: flex;\n",
    "  justify-content: space-between;\n",
    "  align-items: center;\n",
    "}\n",
    "\n",
    "#contact {\n",
    "  margin-right: 5%;\n",
    "  text-decoration: none;\n",
    "}\n",
    "\n",
    "#logo-navbar{\n",
    "  margin-left: 5%;\n",
    "  font-size: 30px;\n",
    "}"
   ]
  },
  {
   "cell_type": "markdown",
   "metadata": {},
   "source": [
    "> *Init Banner* `HTML Code` *and* `CSS Code`"
   ]
  },
  {
   "cell_type": "code",
   "execution_count": 2,
   "metadata": {},
   "outputs": [],
   "source": [
    "<div class=\"banner\">\n",
    "    <h1>My Landing Page</h1>\n",
    "    <!-- Bootstrap button -->\n",
    "</div>"
   ]
  },
  {
   "cell_type": "code",
   "execution_count": 2,
   "metadata": {},
   "outputs": [],
   "source": [
    ".banner {\n",
    "  text-align: center;\n",
    "  background-image: url(\"https://unsplash.it/1300/600?random\");\n",
    "  background-size: cover;\n",
    "  padding: 150px;\n",
    "  height: 60vh;\n",
    "  display: flex;\n",
    "  align-items: flex-start;\n",
    "  justify-content: space-around;\n",
    "}\n",
    "\n",
    ".signup {\n",
    "  position: absolute;\n",
    "  margin-top: 14%;\n",
    "}"
   ]
  },
  {
   "cell_type": "markdown",
   "metadata": {},
   "source": [
    "#### *Until `5. Until Bootstrap Setup` slide.*\n",
    "## Bootstrap on banner div"
   ]
  },
  {
   "cell_type": "code",
   "execution_count": null,
   "metadata": {},
   "outputs": [],
   "source": [
    "<a href=\"#\" class=\"btn btn-primary btn-lg signup\">Inscreva-se</a>"
   ]
  },
  {
   "cell_type": "markdown",
   "metadata": {},
   "source": [
    "`CSS Code`"
   ]
  },
  {
   "cell_type": "code",
   "execution_count": 2,
   "metadata": {},
   "outputs": [],
   "source": [
    ".banner {\n",
    "  text-align: center;\n",
    "  background-image: url(\"https://unsplash.it/1300/600?random\");\n",
    "  background-size: cover;\n",
    "  padding: 150px;\n",
    "  height: 60vh;\n",
    "  display: flex;\n",
    "  align-items: flex-start;\n",
    "  justify-content: space-around;\n",
    "}\n",
    "\n",
    ".signup {\n",
    "  position: absolute;\n",
    "  margin-top: 14%;\n",
    "}"
   ]
  },
  {
   "cell_type": "markdown",
   "metadata": {},
   "source": [
    "> *Add* `Dashboard` *divs and* `CSS Code` "
   ]
  },
  {
   "cell_type": "code",
   "execution_count": null,
   "metadata": {},
   "outputs": [],
   "source": [
    "<div class=\"dashboard-item\">\n",
    "  <div>\n",
    "    <img src=\"images/heart.png\" alt=\"Lovely feature\" width=\"138\">\n",
    "    <h2>Fast</h2>\n",
    "    <p>The quick, <strong>brown fox</strong> jumps over</p>\n",
    "  </div>\n",
    "</div>"
   ]
  },
  {
   "cell_type": "markdown",
   "metadata": {},
   "source": [
    "`CSS Code`"
   ]
  },
  {
   "cell_type": "code",
   "execution_count": 2,
   "metadata": {},
   "outputs": [],
   "source": [
    ".dashboard-item {\n",
    "  background: white;\n",
    "\\*box-shadow: 0 0 10px rgba(0,0,0,0.2);\n",
    "  padding: 10px;\n",
    "  margin: 5px;\n",
    "  display: flex;\n",
    "  text-align: center;\n",
    "  align-items: center;\n",
    "  justify-content: space-around;*/\n",
    "  height: 58vh;\n",
    "}"
   ]
  },
  {
   "cell_type": "markdown",
   "metadata": {},
   "source": [
    "#### *Until `6. Bootstrap Grid` slide.*\n",
    "## Card Design"
   ]
  },
  {
   "cell_type": "markdown",
   "metadata": {},
   "source": [
    "**Explain about the div that will roll our panel \"card\"**"
   ]
  },
  {
   "cell_type": "code",
   "execution_count": null,
   "metadata": {},
   "outputs": [],
   "source": [
    "<div class=\"col\">\n",
    "      <div class=\"col-s-12\">\n",
    "        <div class=\"card\">\n",
    "            <div class=\"image\">\n",
    "              <img src=\"https://placem.at/people?h=150&w=150&txt=0\"/>\n",
    "            </div>\n",
    "            <div class=\"entry\">\n",
    "              <div id=\"margin\">\n",
    "                <div class=\"text\">\n",
    "                  <h4>Explore!</h4>\n",
    "                  <p>Lorem ipsum dolor sit amet, consectetur adipiscing elit, sed do eiusmod tempor incididunt ut labore...<a href=\"#\"> read more</a></p>\n",
    "                </div>\n",
    "              </div>\n",
    "            </div>\n",
    "          </div>\n",
    "        </div>\n",
    "    </div>"
   ]
  },
  {
   "cell_type": "markdown",
   "metadata": {},
   "source": [
    "Repeat inherit div 3 times && **Emmet Shortcut** `(div>img+h2+p)*3`"
   ]
  },
  {
   "cell_type": "markdown",
   "metadata": {},
   "source": [
    "`CSS Code`"
   ]
  },
  {
   "cell_type": "code",
   "execution_count": 2,
   "metadata": {},
   "outputs": [],
   "source": [
    ".card {\n",
    "  display: grid;\n",
    "  grid-template-columns: 150px 350px;\n",
    "  height: 150px;\n",
    "  margin: 5% auto;\n",
    "  max-width: 600px;\n",
    "  background: #fbfbfb;\n",
    "  border-radius: 5px;\n",
    " box-shadow: 0px 10px 10px #DEDEDE;\n",
    " position: relative;\n",
    "}\n",
    "\n",
    ".text {\n",
    " margin-top: 1em;\n",
    "}\n",
    "\n",
    "p {\n",
    " font-size: 15px;\n",
    "}\n",
    "\n",
    "#margin {\n",
    " margin-left: 7%;\n",
    "}"
   ]
  },
  {
   "cell_type": "markdown",
   "metadata": {},
   "source": [
    "## Footer"
   ]
  },
  {
   "cell_type": "code",
   "execution_count": null,
   "metadata": {},
   "outputs": [],
   "source": [
    "<div class=\"footer\">\n",
    "   <p>This is a playground landing made for Distrito® Workshop</p>\n",
    "</div>"
   ]
  },
  {
   "cell_type": "markdown",
   "metadata": {},
   "source": [
    "`CSS Code`"
   ]
  },
  {
   "cell_type": "code",
   "execution_count": 2,
   "metadata": {},
   "outputs": [],
   "source": [
    ".footer {\n",
    "  padding: 30px;\n",
    "  background: rgb(30, 30, 30);\n",
    "  color: lightgrey;\n",
    "  display: flex;\n",
    "  align-items: center;\n",
    "  justify-content: space-between;\n",
    "}\n"
   ]
  }
 ],
 "metadata": {
  "kernelspec": {
   "display_name": "Ruby 2.6.2",
   "language": "ruby",
   "name": "ruby"
  },
  "language_info": {
   "file_extension": ".rb",
   "mimetype": "application/x-ruby",
   "name": "ruby",
   "version": "2.6.2"
  },
  "toc": {
   "nav_menu": {},
   "number_sections": true,
   "sideBar": true,
   "skip_h1_title": false,
   "toc_cell": false,
   "toc_position": {},
   "toc_section_display": "block",
   "toc_window_display": false
  }
 },
 "nbformat": 4,
 "nbformat_minor": 2
}
